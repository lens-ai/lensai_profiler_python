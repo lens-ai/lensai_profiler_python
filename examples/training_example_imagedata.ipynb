{
  "nbformat": 4,
  "nbformat_minor": 0,
  "metadata": {
    "colab": {
      "provenance": []
    },
    "kernelspec": {
      "name": "python3",
      "display_name": "Python 3"
    },
    "language_info": {
      "name": "python"
    }
  },
  "cells": [
    {
      "cell_type": "code",
      "execution_count": null,
      "metadata": {
        "id": "8LlmZJSpvaWa"
      },
      "outputs": [],
      "source": [
        "pip install lensai-profiler"
      ]
    },
    {
      "cell_type": "code",
      "source": [
        "import tensorflow as tf\n",
        "from lensai_profiler.metrics import process_batch\n",
        "from lensai_profiler.sketches import Sketches\n",
        "import os\n",
        "\n",
        "# Download and prepare the dataset\n",
        "_URL = 'https://storage.googleapis.com/mledu-datasets/cats_and_dogs_filtered.zip'\n",
        "path_to_zip = tf.keras.utils.get_file('cats_and_dogs.zip', origin=_URL, extract=True)\n",
        "PATH = os.path.join(os.path.dirname(path_to_zip), 'cats_and_dogs_filtered')\n",
        "\n",
        "train_dir = os.path.join(PATH, 'train')\n",
        "validation_dir = os.path.join(PATH, 'validation')\n",
        "\n",
        "BATCH_SIZE = 32\n",
        "IMG_SIZE = (160, 160)\n",
        "\n",
        "train_dataset = tf.keras.utils.image_dataset_from_directory(train_dir,\n",
        "                                                            shuffle=True,\n",
        "                                                            batch_size=BATCH_SIZE,\n",
        "                                                            image_size=IMG_SIZE)\n",
        "\n",
        "# Initialize sketches\n",
        "num_channels = 3  # Assuming RGB images\n",
        "sketches = Sketches(num_channels)\n",
        "\n",
        "# Apply map function in parallel to compute metrics\n",
        "train_dataset = train_dataset.map(\n",
        "    lambda images, labels: process_batch(images),\n",
        "    num_parallel_calls=tf.data.AUTOTUNE\n",
        ")\n",
        "\n",
        "# Iterate through the dataset and update the KLL sketches in parallel\n",
        "for brightness, sharpness, channel_mean, snr, channel_pixels in train_dataset:\n",
        "    sketches.tf_update_sketches(brightness, sharpness, channel_mean, snr, channel_pixels)\n",
        "\n",
        "# Save the KLL sketches to a specified directory\n",
        "save_path = '/content/sample_data/'\n",
        "sketches.save_sketches(save_path)"
      ],
      "metadata": {
        "id": "9QFOR3VCvepe"
      },
      "execution_count": null,
      "outputs": []
    }
  ]
}